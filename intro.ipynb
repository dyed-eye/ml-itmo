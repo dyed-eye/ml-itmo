{
 "cells": [
  {
   "cell_type": "code",
   "execution_count": 1,
   "metadata": {},
   "outputs": [],
   "source": [
    "# !pip3 install numpy matplotlib autograd"
   ]
  },
  {
   "cell_type": "markdown",
   "metadata": {
    "tags": []
   },
   "source": [
    "# Regression\n",
    "\n",
    "**Goal**: teach computer to predict a numerical value given some input\n",
    "\n",
    "**Model**. Consider approach based on regression analyis.\n",
    "[Regression analysis](https://en.wikipedia.org/wiki/Regression_analysis) is a statistical technique to estimate dependence between variables. \n",
    "Suppose we have samples $x_n$ of a random value $X$ and the corresponding samples $y_n$ of a random value $Y$.\n",
    "We assume $Y$ is a function $f$ of $X$ plus an error term independent of $X$:\n",
    "\n",
    "$$\n",
    "Y=f(X;\\theta)+W.\n",
    "$$\n",
    "\n",
    "The function $f$ defines possible relationship between the variables and the parameters $\\theta$ controls exact form of the dependence.\n"
   ]
  },
  {
   "cell_type": "markdown",
   "metadata": {},
   "source": [
    "**Example 1.** Implement in Python function to sample the function $y=\\sin x$ with addition of normally distributed noise. "
   ]
  },
  {
   "cell_type": "code",
   "execution_count": null,
   "metadata": {},
   "outputs": [],
   "source": [
    "# import numpy as np\n",
    "import autograd as ag\n",
    "import autograd.numpy as np\n",
    "import matplotlib.pyplot as plt"
   ]
  },
  {
   "cell_type": "code",
   "execution_count": 19,
   "metadata": {},
   "outputs": [
    {
     "data": {
      "image/png": "[encoded data removed]",
      "text/plain": [
       "<Figure size 432x288 with 1 Axes>"
      ]
     },
     "metadata": {
      "needs_background": "light"
     },
     "output_type": "display_data"
    }
   ],
   "source": [
    "S = 100 # sample size\n",
    "X = np.random.rand(S)*2 # inicialise X array\n",
    "# print(f'min X = {np.min(X)}, max X = {np.max(X)}') \n",
    "\n",
    "W = np.random.randn(S)*0.01 # initialize noise\n",
    "Y = np.sin(X) + W # create Y samples as sin function with noise\n",
    "plt.plot(X,Y, '.') # ploting samples\n",
    "plt.xlabel('$X$')\n",
    "plt.ylabel('$Y=f(X)+W$')\n",
    "plt.show()"
   ]
  },
  {
   "cell_type": "markdown",
   "metadata": {},
   "source": [
    "**Approaches**. In fact as far as we need to find best function that approximate input, we will solve an optimization problem. Thus we need to define something to optimize. Mainly two functions are used: **loss** and **likelihood** functions.\n",
    "\n",
    "**Minimum loss function principle**.\n",
    "Function $f$ is a solution controlled by the parameter $\\theta$. The optimal $\\theta$ provides the best fitting function. To find optimal value we need to solve optimization problem or find minimum of some error function. Define **Loss function**:\n",
    "\n",
    "$$\n",
    "R[x,y] = ||y - f(x,\\theta)||^2\n",
    "$$\n",
    "\n",
    "The solution of optimisation problem is $\\theta_{opt} = \\mathrm{argmin}_\\theta(L)$\n",
    "\n",
    "In practice, the estimate of $\\theta$ is obtained by the [least squares method](https://en.wikipedia.org/wiki/Least_squares)\n",
    "from minimization of the mean square error:\n",
    "\n",
    "$$\n",
    "R[\\theta] = \\sum_n (y_n-f(x_n,\\theta))^2.\n",
    "$$\n",
    "\n",
    "The minimum of $R$ can be found from the necessary condition of optimality, which is sufficient in the case of quadratic functional:\n",
    "\n",
    "$$\n",
    "\\frac{\\partial R}{\\partial\\theta_k} = 2\\sum_n(y_n-f(x_n,\\theta_k))\\frac{\\partial f}{\\partial \\theta_k}(x_n,\\theta) = 0\\forall k.\n",
    "$$\n",
    "\n",
    "**Example 2.** Implement a function that solve linear least squares method for decomposition of $y$ over polynomials of degree $D$\n",
    "on the interval $[0,1]$\n",
    "using Moore-Penrose inverse:\n",
    "\n",
    "$$\n",
    "f(x,\\theta)=\\sum_{k=0}^D \\theta_k x^k.\n",
    "$$ \n"
   ]
  },
  {
   "cell_type": "code",
   "execution_count": 12,
   "metadata": {},
   "outputs": [
    {
     "name": "stdout",
     "output_type": "stream",
     "text": [
      "0.1 0.09983341666666667 0.09983341664682815\n"
     ]
    }
   ],
   "source": [
    "def f(x, theta):\n",
    "  xn = np.power(x, np.arange(len(theta)))\n",
    "  return np.dot(xn, theta)\n",
    "\n",
    "# theta =        1, x, x^2,   x^3, x^4,       x^5\n",
    "theta_optimal = np.array([0, 1,   0,-1/2/3,   0, 1/2/3/4/5])\n",
    "\n",
    "x0 = 0.1 \n",
    "print(x0, f(x0,theta_optimal), np.sin(x0))"
   ]
  },
  {
   "cell_type": "code",
   "execution_count": 17,
   "metadata": {},
   "outputs": [
    {
     "data": {
      "image/png": "[encoded data removed]",
      "text/plain": [
       "<Figure size 432x288 with 1 Axes>"
      ]
     },
     "metadata": {
      "needs_background": "light"
     },
     "output_type": "display_data"
    }
   ],
   "source": [
    "def F(x, D): # basis\n",
    "  \"\"\"\n",
    "  Arguments:\n",
    "    D - number of parameters.\n",
    "  \"\"\"\n",
    "  return np.power(x[:,None], np.arange(D)[None,:])\n",
    "\n",
    "def f(x, theta):\n",
    "  # axis 0 = # sample\n",
    "  # axis 1 = monomial degree\n",
    "  xn = F(x, D=len(theta))\n",
    "  return np.dot(xn, theta)\n",
    "\n",
    "y_optimal = f(X, theta_optimal)\n",
    "\n",
    "plt.plot(X,Y, '.b', label='samples')\n",
    "plt.plot(X,y_optimal, '.r', label='optimal')\n",
    "plt.xlabel('$X$')\n",
    "plt.ylabel('$Y=f(X)+W$')\n",
    "plt.legend()\n",
    "plt.show()"
   ]
  },
  {
   "cell_type": "markdown",
   "metadata": {},
   "source": [
    "**Example 3**. Calculate mean square error for obtained solution."
   ]
  },
  {
   "cell_type": "code",
   "execution_count": 18,
   "metadata": {},
   "outputs": [
    {
     "name": "stdout",
     "output_type": "stream",
     "text": [
      "Mean square error 0.001332663688026644\n"
     ]
    }
   ],
   "source": [
    "def R(theta, x, y):\n",
    "  rn = (y - f(x, theta))**2\n",
    "  return np.sum(rn)\n",
    "\n",
    "print('Mean square error', R(theta=theta_optimal, x=X, y=Y)/np.sqrt(S) )"
   ]
  },
  {
   "cell_type": "markdown",
   "metadata": {
    "tags": []
   },
   "source": [
    "**Maximum likelihood principle**. Another way to approach machine learning problem is a search of maximum of some likelihood function. Likelihood function function is a probability of specific outcome. \n",
    "Given probability density $f_W$ for random noise $W$, we can estimate likelihood of outcomes resulting in samples $(x_n,y_n)$.\n",
    "[Likelihood function](https://en.wikipedia.org/wiki/Likelihood_function) for the continuous destribution can be written as follows:\n",
    "$$\n",
    "L(\\theta|x,y) = \\prod_n f_W(y_n-f(x_n,\\theta)). \n",
    "$$\n",
    "\n",
    "$$\n",
    "\\log L(\\theta|x,y) = \\sum_n \\log f_W(y_n-f(x_n,\\theta)). \n",
    "$$\n",
    "\n",
    "Maximum of the likelihood function corresponds to the value of $\\theta$ such that outcomes $(x_n,y_n)$ are most probable,\n",
    "thus we obtain the maximum likelihood estimate for the parameters \n",
    "\n",
    "$$\n",
    "\\hat\\theta = \\mathrm{argmax}_\\theta \\log L(\\theta|x,y).\n",
    "$$\n",
    "\n",
    "**Problem 1.** Which distribution of $W$ does correspond to least squares method (minimum of mean square error coincides with maximum of likelihood function)?\n"
   ]
  },
  {
   "cell_type": "markdown",
   "metadata": {},
   "source": [
    "**Training**.\n",
    "From the point of view of machine learning (ML), the function $R$ is a loss function measuring performance of the artificial neural network (ANN) $f$ with parameters $\\theta$. \n",
    "The network is used to predict the value of $Y$ given a value of $X$.  \n",
    "In the context of ML the optimization of $\\theta$ above is called training of the algorithm/network.\n",
    "\n",
    "The simplest method to train an algorithm is the [steepest gradient method](https://en.wikipedia.org/wiki/Gradient_descent).\n",
    "Given an initial vector of parameters $\\theta$, the parameters are updated on each step of optimization by the formula:\n",
    "\n",
    "$$\n",
    "\\theta\\mapsto \\theta-\\alpha\\frac{\\partial R}{\\partial\\theta}[\\theta],\n",
    "$$\n",
    "until the method converges, i.e. the stop conditions are satisfied, e.g. the loss $R$ is small enough,\n",
    "or its update $\\partial R/\\partial \\theta$ is small.\n",
    "The parameter $\\alpha$ is learning rate in ML or step size in the numerical methods, it is a metaparameter, i.e. it does not belong to the model, but may affect the result of optimization. \n",
    "In the simplest form of the gradient descend the learning rate is constant, however often sofisticated method of variation of $\\alpha$ are required \n",
    "to stabilze the method or improve convergence, e.g. [Adam method](https://en.wikipedia.org/wiki/Stochastic_gradient_descent#Adam).\n",
    "Higher order method, such as [LBFGS](https://en.wikipedia.org/wiki/Broyden%E2%80%93Fletcher%E2%80%93Goldfarb%E2%80%93Shanno_algorithm), can also be used to improve convergence, however the methods are used less often.\n",
    "\n",
    "The number of samples sometimes much larger than required to estimate the direction of optimization reliably,\n",
    "in the case the extra points only slow down the computation of the gradient.\n",
    "Therefore [stochastic gradient descent](https://en.wikipedia.org/wiki/Stochastic_gradient_descent) is commonly used in ML instead of the gradient method.\n",
    "In the method only a subset (batch) of the samples is used to compute the gradient of loss,\n",
    "the batch is regenerated/resampled after few iterations of optimization. \n"
   ]
  },
  {
   "cell_type": "markdown",
   "metadata": {},
   "source": [
    "The most well-known variant of the least square method is the linear one/linear regression.\n",
    "In the case prediction function $f$ depends on $\\theta$ linearly:\n",
    "\n",
    "$$\n",
    "f(x,\\theta)=\\sum_k f_k(x)\\theta_k,\n",
    "$$\n",
    "where $f_k$ is a set of predefined functions forming a basis (for instance, in **Example 2** we used the basis of polynomials).\n",
    "Then optimality conditions takes form of a linear system with respect to $\\theta$:\n",
    "\n",
    "$$\n",
    "\\frac{\\partial R}{\\partial\\theta_k} = 2\\sum_n\\bigg(y_n-\\sum_j f_j(x_n)\\theta_j\\bigg)f_k(x_n) = 0\\forall k.\n",
    "$$\n",
    "\n",
    "$$\n",
    "F^T y - F^T F \\theta = 0,\n",
    "$$\n",
    "where $F$ is a matrix with elements $F_{nk}=f_k(x_n)$\n",
    "\n",
    "$$\n",
    "F^T F \\theta=F^T y.\n",
    "$$\n",
    "The solution to the problem is given by the [Moore-Penrose inverse](https://en.wikipedia.org/wiki/Moore%E2%80%93Penrose_inverse) of the matrix $F$:\n",
    "\n",
    "$$\n",
    "\\hat \\theta=(F^T F)^{-1}(F^T y).\n",
    "$$ \n",
    "Numerically the solution can be computed without computation the square of the matrix $F$ using e.g. [QR-decomposition](https://en.wikipedia.org/wiki/Numerical_methods_for_linear_least_squares).\n",
    "\n",
    "Unfortunatelly, it is hard to solve least square problem explicitly for dependencies $f$ more complex than linear. \n",
    "Hopefully, ML methods can be applied to arbitrary sufficiently smooth functions $f$.\n",
    "\n",
    "**Example 4**. Implement function to solve least square problem and compere obtained parameter value with optimal one."
   ]
  },
  {
   "cell_type": "code",
   "execution_count": 9,
   "metadata": {},
   "outputs": [
    {
     "name": "stdout",
     "output_type": "stream",
     "text": [
      "opt: [ 0.          1.          0.         -0.16666667  0.          0.00833333]\n",
      "lsq: [ 0.00167969  1.01102619 -0.09384331 -0.00798737 -0.09767579  0.02790537]\n"
     ]
    }
   ],
   "source": [
    "def lsq(x, y, D):\n",
    "  f = F(x, D)\n",
    "  theta = np.linalg.solve( f.T@f, f.T@y )\n",
    "  return theta\n",
    "\n",
    "D = len(theta_optimal)\n",
    "theta_lsq = lsq(X, Y, D)\n",
    "print(f'opt: {theta_optimal}')\n",
    "print(f'lsq: {theta_lsq}')\n"
   ]
  },
  {
   "cell_type": "markdown",
   "metadata": {},
   "source": [
    "**Problem 2.** Split the data set $(x_n,y_n)$ to the training set (80%) and testing set (20%) and choose optimal $D$ avoiding overfitting."
   ]
  },
  {
   "cell_type": "markdown",
   "metadata": {},
   "source": [
    "In the examples above we used explicit results of differentiation but in practice gradient calculation performed by computer. For example, [``autograd``](https://github.com/HIPS/autograd) package is a tool to automatically differentiate native Python and Numpy code.\n",
    "\n",
    "**Example 5** Create data array, define function and calculate its gradient using autograd"
   ]
  },
  {
   "cell_type": "code",
   "execution_count": 22,
   "metadata": {},
   "outputs": [
    {
     "name": "stdout",
     "output_type": "stream",
     "text": [
      "f(x,t) = -113.69583801751507\n",
      "df/dx =  [  0.  15.  30.  45.  60.  75.  90. 105. 120. 135.]\n"
     ]
    }
   ],
   "source": [
    "# import autograd as ag\n",
    "# function that perform scalar product of vectors 'x' with 'n' multiplied by 't'\n",
    "def f(x,t):\n",
    "    n = np.arange(x.shape[0]) # create 'n' vector as array of numbers from 0 to length of 'x'\n",
    "    return np.sum(x*n)*t\n",
    "\n",
    "x = np.random.randn(10) # take input data as array of 10 random values\n",
    "t = 15 # parameter\n",
    "print('f(x,t) =',f(x,t) )\n",
    "# ag.grad(f,y) - provides a partial derivative of 'f' function with respect 'y' variable  \n",
    "df = ag.grad(f,0) #define gradient\n",
    "print('df/dx = ',df(x,t))"
   ]
  },
  {
   "cell_type": "markdown",
   "metadata": {},
   "source": [
    "**Note**: autograd works with non integer arrays because you can not differentiate integer data."
   ]
  },
  {
   "cell_type": "markdown",
   "metadata": {},
   "source": [
    "There are some assumptions in previous consideration.\n",
    "\n",
    "Firstly, in **least squares method** we assumed that we have a linear dependence from parameters but in the case of non-linear dependence we also need to use non-linear approximation.\n",
    "\n",
    "**Problem 3.** Using [``autograd``](https://github.com/HIPS/autograd) package, try another non-linear approximation of $y(x)$, \n",
    "e.g. by [rational function](https://en.wikipedia.org/wiki/Rational_function) (see also [Padé approximant](https://en.wikipedia.org/wiki/Pad%C3%A9_approximant)). "
   ]
  },
  {
   "cell_type": "markdown",
   "metadata": {},
   "source": [
    "Secondly, we assumed that noise is a random value with normal probability distribution. \n",
    "Let p and q are probability distributions of random values 'x' and 'y'. The cross-entropy of this distribution can be defined as\n",
    "$H(p,q) = -\\sum_{x\\in X} p(x)\\, \\log q(x)$\n",
    "\n",
    "**Problem 4.** Try to use [cross-entropy](https://en.wikipedia.org/wiki/Cross_entropy) as a loss function to evaluate distribution of the error term $W=Y-f(X)$. \n",
    "Compare the result with the least squares method. \n",
    "Train the method using noise with any not normal probability distribution.\n",
    "\n",
    "For example:\n",
    "\n",
    "a) [Student's t-distribution](https://en.wikipedia.org/wiki/Student%27s_t-distribution) for noise $W$: $f_W (x) = \\dfrac{\\Gamma\\left(\\dfrac{\\nu+1}{2}\\right)} {\\sqrt{\\nu\\pi}\\,\\Gamma\\left(\\dfrac{\\nu}{2}\\right)} \\left(1+\\dfrac{x^2}\\nu \\right)^{-(\\nu+1)/2}$\n",
    "\n",
    "b) Uniform distribution for noise $ f_W = \\dfrac{1}{b-a}$ for $a<x<b$"
   ]
  },
  {
   "cell_type": "markdown",
   "metadata": {},
   "source": [
    "**Quick recap**\n",
    "1) Define model\n",
    "2) Separate data on training and testing parts\n",
    "3) Calculate gradient (for example, using autograd)\n",
    "4) Optimize \n",
    "5) Check overfitting (for example cross-validation)\n",
    "\n",
    "**Example 6** Find optimal value of parameter $\\theta$ where minimum of Loss function $R(x,y,\\theta)$ is achieved using autograd.\n",
    "\n",
    "Here we will use loss function from **Example 3** defined as a mean square error.\n",
    "We start from definition of a gradient and then introduce optimization function"
   ]
  },
  {
   "cell_type": "code",
   "execution_count": 10,
   "metadata": {},
   "outputs": [
    {
     "name": "stdout",
     "output_type": "stream",
     "text": [
      "[ 0.67588056  1.20962699  2.15269319  3.92472591  7.25449487 13.52678604]\n",
      "[ 3.92255672e-14  4.55885329e-15  6.46982468e-14 -3.64430708e-14\n",
      "  2.28074504e-13 -1.92450222e-13]\n"
     ]
    }
   ],
   "source": [
    "dR = ag.grad(fun=R, argnum=0)\n",
    "# print( R(theta_optimal, X, Y) )\n",
    "print( dR(theta_optimal, X, Y) )\n",
    "print( dR(theta_lsq, X, Y) )"
   ]
  },
  {
   "cell_type": "code",
   "execution_count": 11,
   "metadata": {},
   "outputs": [],
   "source": [
    "theta0 = theta_optimal\n",
    "\n",
    "def optimize(x,y, theta, alpha, tol=1e-6, maxiter=10000):\n",
    "  for it in range(maxiter):\n",
    "    loss = R(theta=theta, x=x, y=y)\n",
    "    dloss = dR(theta, x, y)\n",
    "    norm_dloss = np.linalg.norm(dloss.flatten())\n",
    "    if it%100 == 0:\n",
    "      print(f\"{it}: {loss} {norm_dloss}\")\n",
    "    if norm_dloss<tol: return theta\n",
    "    theta = theta - alpha*dloss\n",
    "  return theta"
   ]
  },
  {
   "cell_type": "code",
   "execution_count": 12,
   "metadata": {},
   "outputs": [
    {
     "name": "stdout",
     "output_type": "stream",
     "text": [
      "0: 0.012815808482605853 16.048651338161353\n",
      "100: 0.008705586247978032 0.04173765884251222\n",
      "200: 0.008700248222268397 0.02767522505797952\n",
      "300: 0.008696944115468565 0.024031597281412544\n",
      "400: 0.008694341847016044 0.021709931266575246\n",
      "500: 0.008692164419809394 0.020104653421873956\n",
      "600: 0.00869026063801345 0.018973482501753527\n",
      "700: 0.008688541003655192 0.018150553073702357\n",
      "800: 0.008686951988648519 0.017524316067604895\n",
      "900: 0.008685461220300165 0.017022501846967516\n",
      "1000: 0.008684048787775494 0.016599541531913845\n",
      "1100: 0.008682702135758643 0.01622720932344914\n",
      "1200: 0.008681413064413494 0.01588820984358086\n",
      "1300: 0.00868017596622917 0.01557200480472436\n",
      "1400: 0.008678986789231308 0.015272182797280263\n",
      "1500: 0.008677842426776433 0.014984834166415118\n",
      "1600: 0.008676740357896739 0.014707559089138714\n",
      "1700: 0.008675678434824148 0.01443886666345943\n",
      "1800: 0.008674654756992485 0.01417781254667991\n",
      "1900: 0.008673667595871645 0.013923781058188697\n",
      "2000: 0.008672715349699857 0.013676354375171042\n",
      "2100: 0.008671796515819712 0.01343523408810752\n",
      "2200: 0.0086709096733967 0.01320019418050463\n",
      "2300: 0.008670053472277908 0.01297105284791329\n",
      "2400: 0.00866922662549818 0.01274765560369534\n",
      "2500: 0.008668427903967784 0.012529865143851421\n",
      "2600: 0.008667656132479865 0.012317555258490393\n",
      "2700: 0.00866691018652893 0.012110607165615336\n",
      "2800: 0.008666188989641707 0.011908907294980195\n",
      "2900: 0.008665491511041483 0.011712345940037925\n",
      "3000: 0.008664816763541265 0.011520816429830617\n",
      "3100: 0.008664163801602415 0.01133421461248284\n",
      "3200: 0.008663531719519 0.011152438525710785\n",
      "3300: 0.008662919649705749 0.010975388179842754\n",
      "3400: 0.008662326761072947 0.010802965408798331\n",
      "3500: 0.008661752257478937 0.010635073762399978\n",
      "3600: 0.008661195376253022 0.010471618424119828\n",
      "3700: 0.008660655386783666 0.010312506144782142\n",
      "3800: 0.008660131589167773 0.010157645186521144\n",
      "3900: 0.008659623312917959 0.01000694527368292\n",
      "4000: 0.008659129915724801 0.009860317548616031\n",
      "4100: 0.008658650782271437 0.009717674531188948\n",
      "4200: 0.008658185323098314 0.009578930081321902\n",
      "4300: 0.008657732973515702 0.009443999364137211\n",
      "4400: 0.008657293192562152 0.009312798817451473\n",
      "4500: 0.00865686546200666 0.009185246121485587\n",
      "4600: 0.008656449285392854 0.009061260170707068\n",
      "4700: 0.008656044187123443 0.00894076104771987\n",
      "4800: 0.008655649711583125 0.008823669999166775\n",
      "4900: 0.008655265422298282 0.008709909413627172\n",
      "5000: 0.008654890901132388 0.008599402801428409\n",
      "5100: 0.00865452574751456 0.00849207477636401\n",
      "5200: 0.008654169577701418 0.008387851039252256\n",
      "5300: 0.008653822024069158 0.008286658363280236\n",
      "5400: 0.008653482734436023 0.008188424581093213\n",
      "5500: 0.008653151371412867 0.008093078573519338\n",
      "5600: 0.008652827611781225 0.008000550259895493\n",
      "5700: 0.008652511145897481 0.007910770589897016\n",
      "5800: 0.008652201677122067 0.007823671536770813\n",
      "5900: 0.008651898921272662 0.00773918609189197\n",
      "6000: 0.008651602606100452 0.007657248260540597\n",
      "6100: 0.008651312470788314 0.007577793058791446\n",
      "6200: 0.008651028265470229 0.00750075651141361\n",
      "6300: 0.008650749750770802 0.007426075650659767\n",
      "6400: 0.008650476697364051 0.007353688515836228\n",
      "6500: 0.008650208885551035 0.007283534153558576\n",
      "6600: 0.008649946104854948 0.0072155526185336575\n",
      "6700: 0.008649688153633567 0.007149684974800475\n",
      "6800: 0.008649434838707355 0.007085873297290123\n",
      "6900: 0.008649185975004199 0.007024060673600882\n",
      "7000: 0.00864894138521812 0.006964191205883285\n",
      "7100: 0.008648700899482912 0.0069062100127312105\n",
      "7200: 0.00864846435505936 0.006850063230974013\n",
      "7300: 0.008648231596035337 0.006795698017283675\n",
      "7400: 0.00864800247303915 0.006743062549507953\n",
      "7500: 0.008647776842964234 0.006692106027637398\n",
      "7600: 0.008647554568705848 0.006642778674349927\n",
      "7700: 0.008647335518908743 0.006595031735045621\n",
      "7800: 0.008647119567725445 0.006548817477323821\n",
      "7900: 0.008646906594584553 0.006504089189839398\n",
      "8000: 0.008646696483969043 0.006460801180503198\n",
      "8100: 0.008646489125203782 0.006418908773977704\n",
      "8200: 0.008646284412251846 0.0063783683084374905\n",
      "8300: 0.008646082243519556 0.006339137131580437\n",
      "8400: 0.008645882521669736 0.006301173595862176\n",
      "8500: 0.008645685153442592 0.006264437052946251\n",
      "8600: 0.008645490049484561 0.006228887847367468\n",
      "8700: 0.008645297124183765 0.006194487309412025\n",
      "8800: 0.008645106295512933 0.006161197747219542\n",
      "8900: 0.008644917484878636 0.00612898243811966\n",
      "9000: 0.008644730616976841 0.006097805619228536\n",
      "9100: 0.008644545619654685 0.00606763247731723\n",
      "9200: 0.008644362423778106 0.00603842913798587\n",
      "9300: 0.008644180963104669 0.006010162654174352\n",
      "9400: 0.008644001174162294 0.005982800994033854\n",
      "9500: 0.008643822996132502 0.005956313028208744\n",
      "9600: 0.008643646370739146 0.005930668516550054\n",
      "9700: 0.00864347124214127 0.005905838094315242\n",
      "9800: 0.00864329755683101 0.005881793257887731\n",
      "9900: 0.008643125263535183 0.005858506350046879\n",
      "[ 1.09486814e-03  9.96004641e-01  8.21202983e-04 -1.64523275e-01\n",
      "  3.47047365e-04  7.08199271e-03]\n"
     ]
    }
   ],
   "source": [
    "theta0 = optimize(x=X, y=Y, theta=theta0, alpha=5e-5)\n",
    "print(theta0) "
   ]
  },
  {
   "cell_type": "code",
   "execution_count": null,
   "metadata": {},
   "outputs": [],
   "source": []
  }
 ],
 "metadata": {
  "kernelspec": {
   "display_name": "Python 3 (ipykernel)",
   "language": "python",
   "name": "python3"
  },
  "language_info": {
   "codemirror_mode": {
    "name": "ipython",
    "version": 3
   },
   "file_extension": ".py",
   "mimetype": "text/x-python",
   "name": "python",
   "nbconvert_exporter": "python",
   "pygments_lexer": "ipython3",
   "version": "3.9.12"
  }
 },
 "nbformat": 4,
 "nbformat_minor": 4
}
